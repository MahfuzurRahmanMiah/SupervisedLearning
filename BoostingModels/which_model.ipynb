{
 "cells": [
  {
   "cell_type": "markdown",
   "metadata": {},
   "source": [
    "## Challenge: Which model?\n",
    "**You now have a fairly substantial starting toolbox of supervised learning methods that you can use to tackle a host of exciting problems. To make sure all of these ideas are organized in your mind, please go through the list of problems below. For each, identify which supervised learning method(s) would be best for addressing that particular problem. Explain your reasoning and discuss your answers with your mentor.**\n",
    "\n",
    "1. Predict the running times of prospective Olympic sprinters using data from the last 20 Olympics.\n",
    "Use a regression model to get predictions across a continuous axis. OLS regression should work fine though one can also try KNN regression. \n",
    "2. You have more features (columns) than rows in your dataset.\n",
    "Use PCA and/or correlation matrix to reduce the number of relevant features to only the most signifcant. One could use random forest or decision trees to allow the algorithm to determine useful features that help to determine a target variable.\n",
    "3. Identify the most important characteristic predicting likelihood of being jailed before age 20.\n",
    "A decision tree can help us understand which features are predictive of being jailed before age 20. Boosting models can also be used with a graph of relavent features that shows which characteristic best models likelihood of being jailed before age 20.\n",
    "4. Implement a filter to “highlight” emails that might be important to the recipient\n",
    "This is a classifier problem. One could use Naive Bayes or try other classifiers like KNN classifiers which could extract the similar features between spam email vs real important emails.\n",
    "5. You have 1000+ features.\n",
    "PCA isn't an 'supervised' learning method but we can use it to reduce the dimensionality of a dataset that has so many features such as this one. \n",
    "6. Predict whether someone who adds items to their cart on a website will purchase the items.iu5ht5r\n",
    "This is a classifier question: SVM classification could be utilized here.\n",
    "7. Your dataset dimensions are 982400 x 500\n",
    "Again, with such a large dataset, one should probably reduce the important features to use in the model by using PCA or a correlation matrix. As far as a model to use, it depends on whether the question being asked is a classification or regression question.\n",
    "8. Identify faces in an image.\n",
    "KNN regression or SVM regression may work here; this can depend on how large the data set is. I'm actually more used to neural networks being used for facial recognition but the regression models I mentioned could also work.\n",
    "9. Predict which of three flavors of ice cream will be most popular with boys vs girls.\n",
    "This is a classification question: SVM or KNN could work for this. SVM seems to a be a more popular method overall and may serve this purpose well here."
   ]
  },
  {
   "cell_type": "code",
   "execution_count": null,
   "metadata": {},
   "outputs": [],
   "source": []
  }
 ],
 "metadata": {
  "kernelspec": {
   "display_name": "Python 3",
   "language": "python",
   "name": "python3"
  },
  "language_info": {
   "codemirror_mode": {
    "name": "ipython",
    "version": 3
   },
   "file_extension": ".py",
   "mimetype": "text/x-python",
   "name": "python",
   "nbconvert_exporter": "python",
   "pygments_lexer": "ipython3",
   "version": "3.6.4"
  }
 },
 "nbformat": 4,
 "nbformat_minor": 2
}
