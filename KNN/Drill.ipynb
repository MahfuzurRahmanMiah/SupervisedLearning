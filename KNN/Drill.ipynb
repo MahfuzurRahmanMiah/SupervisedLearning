{
 "cells": [
  {
   "cell_type": "markdown",
   "metadata": {},
   "source": [
    "Let's say we work at a credit card company and we're trying to figure out if people are going to pay their bills on time. We have everyone's purchases, split into four main categories: groceries, dining out, utilities, and entertainment. What are some ways you might use KNN to create this model? What aspects of KNN would be useful? Write up your thoughts in submit a link below.\n",
    "\n",
    "We could have a data frame that has the amount of debt one has for each categorical group for 10 people. Historical data over the last 12 months would be provided for the 10 people regarding whether a debt was paid or not. For each category now, we would have a binary answer of whether a debt was paid or not and we would have this info for a sample of 10 people. Using this format of the data, we are primed to use KNN to categorize whether a debt will be paid based on how much of a certain debt is present and whether that amount of debt falls into a range that was previously paid based on historical data. We would need to play with the amount of nearest neaighbors to use based on the actual data set. Like with the 'loudness' and 'duration' example above, we might see that only certain categories are telling of whether a debt will be paid or not so we may not use all four provided categories."
   ]
  },
  {
   "cell_type": "code",
   "execution_count": null,
   "metadata": {},
   "outputs": [],
   "source": []
  }
 ],
 "metadata": {
  "kernelspec": {
   "display_name": "Python 3",
   "language": "python",
   "name": "python3"
  },
  "language_info": {
   "codemirror_mode": {
    "name": "ipython",
    "version": 3
   },
   "file_extension": ".py",
   "mimetype": "text/x-python",
   "name": "python",
   "nbconvert_exporter": "python",
   "pygments_lexer": "ipython3",
   "version": "3.6.4"
  }
 },
 "nbformat": 4,
 "nbformat_minor": 2
}
